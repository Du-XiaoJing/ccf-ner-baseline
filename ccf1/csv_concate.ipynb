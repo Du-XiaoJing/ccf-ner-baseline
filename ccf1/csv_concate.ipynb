{
 "cells": [
  {
   "cell_type": "code",
   "execution_count": 1,
   "metadata": {},
   "outputs": [],
   "source": [
    "import pandas as pd\n",
    "import glob\n",
    "import os\n",
    "\n",
    "\n",
    "all_files = glob.glob(os.path.join('data/result',\"*.csv\"))\n",
    "\n",
    "all_data_frame = []\n",
    "row_count = 0\n",
    "for file in all_files:\n",
    "    data_frame = pd.read_csv(file)\n",
    "    all_data_frame.append(data_frame)\n",
    "    # axis=0纵向合并 axis=1横向合并\n",
    "data_frame_concat = pd.concat(all_data_frame, axis=0)\n",
    "data_frame_concat.to_csv(\"predict.csv\", index=False, encoding=\"utf-8\")"
   ]
  },
  {
   "cell_type": "code",
   "execution_count": null,
   "metadata": {},
   "outputs": [],
   "source": []
  }
 ],
 "metadata": {
  "kernelspec": {
   "display_name": "Python 3",
   "language": "python",
   "name": "python3"
  },
  "language_info": {
   "codemirror_mode": {
    "name": "ipython",
    "version": 3
   },
   "file_extension": ".py",
   "mimetype": "text/x-python",
   "name": "python",
   "nbconvert_exporter": "python",
   "pygments_lexer": "ipython3",
   "version": "3.6.10"
  }
 },
 "nbformat": 4,
 "nbformat_minor": 4
}
