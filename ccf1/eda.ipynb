{
 "cells": [
  {
   "cell_type": "code",
   "execution_count": 1,
   "metadata": {},
   "outputs": [],
   "source": [
    "import os\n",
    "import codecs\n",
    "import numpy as np\n",
    "import pandas as pd\n",
    "import matplotlib.pyplot as plt\n",
    "import numpy as np\n",
    "import matplotlib"
   ]
  },
  {
   "cell_type": "code",
   "execution_count": 4,
   "metadata": {},
   "outputs": [],
   "source": [
    "content_length = []\n",
    "for file in os.listdir('./data/train/data'):\n",
    "    with codecs.open('./data/train/data/'+file, \"r\", encoding=\"utf-8\") as f:\n",
    "        content_str = f.read()\n",
    "        content_length.append(len(content_str))"
   ]
  },
  {
   "cell_type": "code",
   "execution_count": 5,
   "metadata": {},
   "outputs": [
    {
     "data": {
      "text/plain": [
       "366.0"
      ]
     },
     "execution_count": 5,
     "metadata": {},
     "output_type": "execute_result"
    }
   ],
   "source": [
    "np.percentile(content_length,95)"
   ]
  },
  {
   "cell_type": "code",
   "execution_count": 6,
   "metadata": {},
   "outputs": [],
   "source": [
    "content_length = pd.Series(content_length)"
   ]
  },
  {
   "cell_type": "code",
   "execution_count": 7,
   "metadata": {},
   "outputs": [
    {
     "data": {
      "text/plain": [
       "(43,)"
      ]
     },
     "execution_count": 7,
     "metadata": {},
     "output_type": "execute_result"
    }
   ],
   "source": [
    "content_length[content_length>500].shape"
   ]
  },
  {
   "cell_type": "code",
   "execution_count": 9,
   "metadata": {},
   "outputs": [
    {
     "data": {
      "image/png": "[encoded data removed]",
      "text/plain": [
       "<Figure size 720x360 with 1 Axes>"
      ]
     },
     "metadata": {
      "needs_background": "light"
     },
     "output_type": "display_data"
    }
   ],
   "source": [
    "# 设置matplotlib正常显示中文和负号\n",
    "matplotlib.rcParams['font.sans-serif']=['SimHei']   # 用黑体显示中文\n",
    "matplotlib.rcParams['axes.unicode_minus']=False     # 正常显示负号\n",
    "plt.figure(figsize=(10,5))\n",
    "plt.hist(content_length, bins=20, range=(0,1000),facecolor=\"blue\", edgecolor=\"black\", alpha=0.7)\n",
    "# 显示横轴标签\n",
    "plt.xlabel(\"长度区间\")\n",
    "# 显示纵轴标签\n",
    "plt.ylabel(\"样本数\")\n",
    "# 显示图标题\n",
    "plt.title(\"文本长度分布直方图\")\n",
    "plt.show()"
   ]
  },
  {
   "cell_type": "markdown",
   "metadata": {},
   "source": [
    "标签分布"
   ]
  },
  {
   "cell_type": "code",
   "execution_count": 12,
   "metadata": {},
   "outputs": [],
   "source": [
    "df = pd.DataFrame()\n",
    "for file in os.listdir('./data/train/label'):\n",
    "    dta = pd.read_csv('./data/train/label/'+file,names=['Id','Category','Pos_b','Pos_e','Privacy'])\n",
    "    dta = dta[['Id','Category','Pos_b','Pos_e','Privacy']]       \n",
    "    df = pd.concat([df,dta])"
   ]
  },
  {
   "cell_type": "code",
   "execution_count": 13,
   "metadata": {},
   "outputs": [
    {
     "data": {
      "text/html": [
       "<div>\n",
       "<style scoped>\n",
       "    .dataframe tbody tr th:only-of-type {\n",
       "        vertical-align: middle;\n",
       "    }\n",
       "\n",
       "    .dataframe tbody tr th {\n",
       "        vertical-align: top;\n",
       "    }\n",
       "\n",
       "    .dataframe thead th {\n",
       "        text-align: right;\n",
       "    }\n",
       "</style>\n",
       "<table border=\"1\" class=\"dataframe\">\n",
       "  <thead>\n",
       "    <tr style=\"text-align: right;\">\n",
       "      <th></th>\n",
       "      <th>Id</th>\n",
       "      <th>Category</th>\n",
       "      <th>Pos_b</th>\n",
       "      <th>Pos_e</th>\n",
       "      <th>Privacy</th>\n",
       "    </tr>\n",
       "  </thead>\n",
       "  <tbody>\n",
       "    <tr>\n",
       "      <th>0</th>\n",
       "      <td>ID</td>\n",
       "      <td>Category</td>\n",
       "      <td>Pos_b</td>\n",
       "      <td>Pos_e</td>\n",
       "      <td>Privacy</td>\n",
       "    </tr>\n",
       "    <tr>\n",
       "      <th>1</th>\n",
       "      <td>0</td>\n",
       "      <td>position</td>\n",
       "      <td>66</td>\n",
       "      <td>75</td>\n",
       "      <td>香港电影国语配音名家</td>\n",
       "    </tr>\n",
       "    <tr>\n",
       "      <th>2</th>\n",
       "      <td>0</td>\n",
       "      <td>name</td>\n",
       "      <td>76</td>\n",
       "      <td>78</td>\n",
       "      <td>周思平</td>\n",
       "    </tr>\n",
       "    <tr>\n",
       "      <th>3</th>\n",
       "      <td>0</td>\n",
       "      <td>movie</td>\n",
       "      <td>87</td>\n",
       "      <td>91</td>\n",
       "      <td>《上海滩》</td>\n",
       "    </tr>\n",
       "    <tr>\n",
       "      <th>4</th>\n",
       "      <td>0</td>\n",
       "      <td>name</td>\n",
       "      <td>92</td>\n",
       "      <td>94</td>\n",
       "      <td>周润发</td>\n",
       "    </tr>\n",
       "    <tr>\n",
       "      <th>6</th>\n",
       "      <td>999</td>\n",
       "      <td>movie</td>\n",
       "      <td>39</td>\n",
       "      <td>44</td>\n",
       "      <td>《渴望激情》</td>\n",
       "    </tr>\n",
       "    <tr>\n",
       "      <th>7</th>\n",
       "      <td>999</td>\n",
       "      <td>movie</td>\n",
       "      <td>45</td>\n",
       "      <td>50</td>\n",
       "      <td>《昨日英雄》</td>\n",
       "    </tr>\n",
       "    <tr>\n",
       "      <th>8</th>\n",
       "      <td>999</td>\n",
       "      <td>movie</td>\n",
       "      <td>51</td>\n",
       "      <td>56</td>\n",
       "      <td>《保卫爱情》</td>\n",
       "    </tr>\n",
       "    <tr>\n",
       "      <th>9</th>\n",
       "      <td>999</td>\n",
       "      <td>position</td>\n",
       "      <td>67</td>\n",
       "      <td>78</td>\n",
       "      <td>上海影评人奖”最佳男演员</td>\n",
       "    </tr>\n",
       "    <tr>\n",
       "      <th>10</th>\n",
       "      <td>999</td>\n",
       "      <td>name</td>\n",
       "      <td>27</td>\n",
       "      <td>28</td>\n",
       "      <td>南帝</td>\n",
       "    </tr>\n",
       "  </tbody>\n",
       "</table>\n",
       "</div>"
      ],
      "text/plain": [
       "     Id  Category  Pos_b  Pos_e       Privacy\n",
       "0    ID  Category  Pos_b  Pos_e       Privacy\n",
       "1     0  position     66     75    香港电影国语配音名家\n",
       "2     0      name     76     78           周思平\n",
       "3     0     movie     87     91         《上海滩》\n",
       "4     0      name     92     94           周润发\n",
       "6   999     movie     39     44        《渴望激情》\n",
       "7   999     movie     45     50        《昨日英雄》\n",
       "8   999     movie     51     56        《保卫爱情》\n",
       "9   999  position     67     78  上海影评人奖”最佳男演员\n",
       "10  999      name     27     28            南帝"
      ]
     },
     "execution_count": 13,
     "metadata": {},
     "output_type": "execute_result"
    }
   ],
   "source": [
    "df.head().append(df.tail())"
   ]
  },
  {
   "cell_type": "code",
   "execution_count": 14,
   "metadata": {},
   "outputs": [
    {
     "data": {
      "text/html": [
       "<div>\n",
       "<style scoped>\n",
       "    .dataframe tbody tr th:only-of-type {\n",
       "        vertical-align: middle;\n",
       "    }\n",
       "\n",
       "    .dataframe tbody tr th {\n",
       "        vertical-align: top;\n",
       "    }\n",
       "\n",
       "    .dataframe thead th {\n",
       "        text-align: right;\n",
       "    }\n",
       "</style>\n",
       "<table border=\"1\" class=\"dataframe\">\n",
       "  <thead>\n",
       "    <tr style=\"text-align: right;\">\n",
       "      <th></th>\n",
       "      <th>Category</th>\n",
       "      <th>Id</th>\n",
       "    </tr>\n",
       "  </thead>\n",
       "  <tbody>\n",
       "    <tr>\n",
       "      <th>12</th>\n",
       "      <td>position</td>\n",
       "      <td>3580</td>\n",
       "    </tr>\n",
       "    <tr>\n",
       "      <th>10</th>\n",
       "      <td>name</td>\n",
       "      <td>3422</td>\n",
       "    </tr>\n",
       "    <tr>\n",
       "      <th>0</th>\n",
       "      <td>Category</td>\n",
       "      <td>2515</td>\n",
       "    </tr>\n",
       "    <tr>\n",
       "      <th>11</th>\n",
       "      <td>organization</td>\n",
       "      <td>2329</td>\n",
       "    </tr>\n",
       "    <tr>\n",
       "      <th>4</th>\n",
       "      <td>company</td>\n",
       "      <td>2150</td>\n",
       "    </tr>\n",
       "    <tr>\n",
       "      <th>2</th>\n",
       "      <td>address</td>\n",
       "      <td>2056</td>\n",
       "    </tr>\n",
       "    <tr>\n",
       "      <th>9</th>\n",
       "      <td>movie</td>\n",
       "      <td>1901</td>\n",
       "    </tr>\n",
       "    <tr>\n",
       "      <th>6</th>\n",
       "      <td>game</td>\n",
       "      <td>1571</td>\n",
       "    </tr>\n",
       "    <tr>\n",
       "      <th>7</th>\n",
       "      <td>government</td>\n",
       "      <td>1187</td>\n",
       "    </tr>\n",
       "    <tr>\n",
       "      <th>13</th>\n",
       "      <td>scene</td>\n",
       "      <td>990</td>\n",
       "    </tr>\n",
       "    <tr>\n",
       "      <th>3</th>\n",
       "      <td>book</td>\n",
       "      <td>734</td>\n",
       "    </tr>\n",
       "    <tr>\n",
       "      <th>8</th>\n",
       "      <td>mobile</td>\n",
       "      <td>277</td>\n",
       "    </tr>\n",
       "    <tr>\n",
       "      <th>5</th>\n",
       "      <td>email</td>\n",
       "      <td>259</td>\n",
       "    </tr>\n",
       "    <tr>\n",
       "      <th>1</th>\n",
       "      <td>QQ</td>\n",
       "      <td>28</td>\n",
       "    </tr>\n",
       "    <tr>\n",
       "      <th>14</th>\n",
       "      <td>vx</td>\n",
       "      <td>19</td>\n",
       "    </tr>\n",
       "  </tbody>\n",
       "</table>\n",
       "</div>"
      ],
      "text/plain": [
       "        Category    Id\n",
       "12      position  3580\n",
       "10          name  3422\n",
       "0       Category  2515\n",
       "11  organization  2329\n",
       "4        company  2150\n",
       "2        address  2056\n",
       "9          movie  1901\n",
       "6           game  1571\n",
       "7     government  1187\n",
       "13         scene   990\n",
       "3           book   734\n",
       "8         mobile   277\n",
       "5          email   259\n",
       "1             QQ    28\n",
       "14            vx    19"
      ]
     },
     "execution_count": 14,
     "metadata": {},
     "output_type": "execute_result"
    }
   ],
   "source": [
    "df.groupby(\"Category\").count().reset_index()[['Category','Id']].sort_values(by='Id',ascending=False)"
   ]
  },
  {
   "cell_type": "code",
   "execution_count": 16,
   "metadata": {},
   "outputs": [
    {
     "data": {
      "text/plain": [
       "array([['118', 'vx', '80', '86', 'lily潘小芬'],\n",
       "       ['1345', 'vx', '36', '52', 'zhangzhizheng-zzz'],\n",
       "       ['1503', 'vx', '35', '41', 'wwjshow'],\n",
       "       ['1566', 'vx', '34', '43', 'rachel-213'],\n",
       "       ['1801', 'vx', '56', '63', '57150788'],\n",
       "       ['1801', 'vx', '74', '81', '57150788'],\n",
       "       ['2010', 'vx', '57', '70', 'tianlangyinyue'],\n",
       "       ['2164', 'vx', '15', '21', 'waveapp'],\n",
       "       ['2164', 'vx', '59', '68', 'songxiaobo'],\n",
       "       ['2181', 'vx', '5', '15', 'hongshui001'],\n",
       "       ['2181', 'vx', '21', '31', 'hongshui007'],\n",
       "       ['2189', 'vx', '55', '65', '13426245800'],\n",
       "       ['2279', 'vx', '71', '86', 'zhuzishanmisstin'],\n",
       "       ['2335', 'vx', '61', '73', 'zhuzhiyi91510'],\n",
       "       ['2341', 'vx', '53', '60', 'montager'],\n",
       "       ['317', 'vx', '76', '87', 'mengmeng6570'],\n",
       "       ['397', 'vx', '63', '77', 'liushasha319439'],\n",
       "       ['667', 'vx', '62', '71', '1827967769'],\n",
       "       ['762', 'vx', '7', '12', 'sjyy98']], dtype=object)"
      ]
     },
     "execution_count": 16,
     "metadata": {},
     "output_type": "execute_result"
    }
   ],
   "source": [
    "df[df['Category']=='vx'].values"
   ]
  },
  {
   "cell_type": "code",
   "execution_count": 17,
   "metadata": {},
   "outputs": [
    {
     "data": {
      "text/plain": [
       "array([['1063', 'QQ', '89', '97', '371451138'],\n",
       "       ['1168', 'QQ', '34', '42', '924969718'],\n",
       "       ['1334', 'QQ', '44', '52', '490401933'],\n",
       "       ['138', 'QQ', '21', '29', '826929452'],\n",
       "       ['1479', 'QQ', '8', '16', '160308912'],\n",
       "       ['1590', 'QQ', '54', '61', '33370722'],\n",
       "       ['1699', 'QQ', '64', '71', '14705257'],\n",
       "       ['1730', 'QQ', '44', '52', '114281231'],\n",
       "       ['1766', 'QQ', '45', '53', '783594553'],\n",
       "       ['1939', 'QQ', '50', '58', '130238288'],\n",
       "       ['1994', 'QQ', '7', '17', '18618193311'],\n",
       "       ['2112', 'QQ', '68', '75', '53344829'],\n",
       "       ['2181', 'QQ', '83', '90', '89359735'],\n",
       "       ['2181', 'QQ', '47', '56', '1787817738'],\n",
       "       ['2241', 'QQ', '23', '31', '449801320'],\n",
       "       ['2241', 'QQ', '45', '53', '574785760'],\n",
       "       ['2251', 'QQ', '20', '29', '1143175993'],\n",
       "       ['2259', 'QQ', '63', '71', '527622886'],\n",
       "       ['2365', 'QQ', '38', '46', '776979804'],\n",
       "       ['2416', 'QQ', '57', '65', '326597719'],\n",
       "       ['2514', 'QQ', '6', '14', '229215757'],\n",
       "       ['272', 'QQ', '4', '12', '415392980'],\n",
       "       ['313', 'QQ', '69', '78', '2308713823'],\n",
       "       ['317', 'QQ', '49', '58', '2450006972'],\n",
       "       ['47', 'QQ', '39', '47', '232297193'],\n",
       "       ['667', 'QQ', '62', '71', '1827967769'],\n",
       "       ['864', 'QQ', '74', '82', '496049279'],\n",
       "       ['994', 'QQ', '24', '33', '1941600020']], dtype=object)"
      ]
     },
     "execution_count": 17,
     "metadata": {},
     "output_type": "execute_result"
    }
   ],
   "source": [
    "df[df['Category']=='QQ'].values"
   ]
  },
  {
   "cell_type": "code",
   "execution_count": 18,
   "metadata": {},
   "outputs": [
    {
     "data": {
      "text/html": [
       "<div>\n",
       "<style scoped>\n",
       "    .dataframe tbody tr th:only-of-type {\n",
       "        vertical-align: middle;\n",
       "    }\n",
       "\n",
       "    .dataframe tbody tr th {\n",
       "        vertical-align: top;\n",
       "    }\n",
       "\n",
       "    .dataframe thead th {\n",
       "        text-align: right;\n",
       "    }\n",
       "</style>\n",
       "<table border=\"1\" class=\"dataframe\">\n",
       "  <thead>\n",
       "    <tr style=\"text-align: right;\">\n",
       "      <th></th>\n",
       "      <th>Privacy</th>\n",
       "      <th>Id</th>\n",
       "    </tr>\n",
       "  </thead>\n",
       "  <tbody>\n",
       "    <tr>\n",
       "      <th>729</th>\n",
       "      <td>Privacy</td>\n",
       "      <td>2515</td>\n",
       "    </tr>\n",
       "    <tr>\n",
       "      <th>10113</th>\n",
       "      <td>记者</td>\n",
       "      <td>356</td>\n",
       "    </tr>\n",
       "    <tr>\n",
       "      <th>8546</th>\n",
       "      <td>演员</td>\n",
       "      <td>153</td>\n",
       "    </tr>\n",
       "    <tr>\n",
       "      <th>7958</th>\n",
       "      <td>歌手</td>\n",
       "      <td>93</td>\n",
       "    </tr>\n",
       "    <tr>\n",
       "      <th>3760</th>\n",
       "      <td>主持人</td>\n",
       "      <td>91</td>\n",
       "    </tr>\n",
       "    <tr>\n",
       "      <th>...</th>\n",
       "      <td>...</td>\n",
       "      <td>...</td>\n",
       "    </tr>\n",
       "    <tr>\n",
       "      <th>4235</th>\n",
       "      <td>偶然当演员</td>\n",
       "      <td>1</td>\n",
       "    </tr>\n",
       "    <tr>\n",
       "      <th>4236</th>\n",
       "      <td>傅思建</td>\n",
       "      <td>1</td>\n",
       "    </tr>\n",
       "    <tr>\n",
       "      <th>4237</th>\n",
       "      <td>傅硕</td>\n",
       "      <td>1</td>\n",
       "    </tr>\n",
       "    <tr>\n",
       "      <th>4238</th>\n",
       "      <td>傅艺伟</td>\n",
       "      <td>1</td>\n",
       "    </tr>\n",
       "    <tr>\n",
       "      <th>11602</th>\n",
       "      <td>｟鲁冰花｠</td>\n",
       "      <td>1</td>\n",
       "    </tr>\n",
       "  </tbody>\n",
       "</table>\n",
       "<p>11603 rows × 2 columns</p>\n",
       "</div>"
      ],
      "text/plain": [
       "       Privacy    Id\n",
       "729    Privacy  2515\n",
       "10113       记者   356\n",
       "8546        演员   153\n",
       "7958        歌手    93\n",
       "3760       主持人    91\n",
       "...        ...   ...\n",
       "4235     偶然当演员     1\n",
       "4236       傅思建     1\n",
       "4237        傅硕     1\n",
       "4238       傅艺伟     1\n",
       "11602    ｟鲁冰花｠     1\n",
       "\n",
       "[11603 rows x 2 columns]"
      ]
     },
     "execution_count": 18,
     "metadata": {},
     "output_type": "execute_result"
    }
   ],
   "source": [
    "df.groupby(\"Privacy\").count().reset_index()[['Privacy','Id']].sort_values(by='Id',ascending=False)"
   ]
  },
  {
   "cell_type": "markdown",
   "metadata": {},
   "source": [
    "测试集分析"
   ]
  },
  {
   "cell_type": "code",
   "execution_count": 19,
   "metadata": {},
   "outputs": [],
   "source": [
    "content_length = []\n",
    "for file in os.listdir('./data/test'):\n",
    "    with codecs.open('./data/test/'+file, \"r\", encoding=\"utf-8\") as f:\n",
    "        content_str = f.read()\n",
    "        content_length.append(len(content_str))"
   ]
  },
  {
   "cell_type": "code",
   "execution_count": 20,
   "metadata": {},
   "outputs": [],
   "source": [
    "content_length = pd.Series(content_length)"
   ]
  },
  {
   "cell_type": "code",
   "execution_count": 21,
   "metadata": {},
   "outputs": [
    {
     "data": {
      "text/plain": [
       "(27,)"
      ]
     },
     "execution_count": 21,
     "metadata": {},
     "output_type": "execute_result"
    }
   ],
   "source": [
    "content_length[content_length>500].shape"
   ]
  },
  {
   "cell_type": "code",
   "execution_count": 22,
   "metadata": {},
   "outputs": [
    {
     "data": {
      "text/plain": [
       "746     1090\n",
       "782      675\n",
       "1088     593\n",
       "1288     634\n",
       "1403     512\n",
       "1446     532\n",
       "1454     773\n",
       "1459     627\n",
       "1620     512\n",
       "1683     566\n",
       "1898     698\n",
       "2008     629\n",
       "2285     541\n",
       "2332     518\n",
       "2413     503\n",
       "2643     635\n",
       "2781     680\n",
       "2937     501\n",
       "2944     525\n",
       "2990     551\n",
       "3088    1058\n",
       "3135     777\n",
       "3263    1090\n",
       "3289     632\n",
       "3553     523\n",
       "3608     679\n",
       "3671     511\n",
       "dtype: int64"
      ]
     },
     "execution_count": 22,
     "metadata": {},
     "output_type": "execute_result"
    }
   ],
   "source": [
    "content_length[content_length>500]"
   ]
  },
  {
   "cell_type": "code",
   "execution_count": 23,
   "metadata": {},
   "outputs": [
    {
     "data": {
      "image/png": "[encoded data removed]",
      "text/plain": [
       "<Figure size 720x360 with 1 Axes>"
      ]
     },
     "metadata": {
      "needs_background": "light"
     },
     "output_type": "display_data"
    }
   ],
   "source": [
    "matplotlib.rcParams['font.sans-serif']=['SimHei']   # 用黑体显示中文\n",
    "matplotlib.rcParams['axes.unicode_minus']=False     # 正常显示负号\n",
    "plt.figure(figsize=(10,5))\n",
    "plt.hist(content_length, bins=20, range=(0,1000),facecolor=\"blue\", edgecolor=\"black\", alpha=0.7)\n",
    "# 显示横轴标签\n",
    "plt.xlabel(\"长度区间\")\n",
    "# 显示纵轴标签\n",
    "plt.ylabel(\"样本数\")\n",
    "# 显示图标题\n",
    "plt.title(\"文本长度分布直方图\")\n",
    "plt.show()"
   ]
  },
  {
   "cell_type": "code",
   "execution_count": null,
   "metadata": {},
   "outputs": [],
   "source": []
  }
 ],
 "metadata": {
  "kernelspec": {
   "display_name": "Python 3",
   "language": "python",
   "name": "python3"
  },
  "language_info": {
   "codemirror_mode": {
    "name": "ipython",
    "version": 3
   },
   "file_extension": ".py",
   "mimetype": "text/x-python",
   "name": "python",
   "nbconvert_exporter": "python",
   "pygments_lexer": "ipython3",
   "version": "3.7.6"
  }
 },
 "nbformat": 4,
 "nbformat_minor": 4
}
